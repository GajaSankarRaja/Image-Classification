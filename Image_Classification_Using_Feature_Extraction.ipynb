{
 "cells": [
  {
   "cell_type": "code",
   "execution_count": 1,
   "id": "c76dafc0-97f9-4274-b4dc-a9de94a6c141",
   "metadata": {},
   "outputs": [],
   "source": [
    "#from img2vec_keras import Img2Vec\n",
    "from img2vec_pytorch import Img2Vec\n",
    "from PIL import Image\n",
    "import numpy as np\n",
    "import cv2 as cv\n",
    "import os"
   ]
  },
  {
   "cell_type": "code",
   "execution_count": 2,
   "id": "338ed882-90bf-4f16-a549-15cf325c74b2",
   "metadata": {},
   "outputs": [],
   "source": [
    "dataset='D:/dataset2'"
   ]
  },
  {
   "cell_type": "code",
   "execution_count": 3,
   "id": "05d0391e-f8fc-446b-a0ff-2084d444c2e6",
   "metadata": {},
   "outputs": [
    {
     "name": "stdout",
     "output_type": "stream",
     "text": [
      "0\n",
      "1123\n"
     ]
    }
   ],
   "source": [
    "category = ['cloudy', 'sunrise', 'shine', 'rain']\n",
    "three, two = 0, 0\n",
    "for ind in category:\n",
    "    category_path = os.path.join(dataset, ind)\n",
    "    for file in os.listdir(category_path):\n",
    "        path = os.path.join(category_path, file)\n",
    "        img = cv.imread(path)\n",
    "        if img is not None:\n",
    "            shape = img.shape\n",
    "            if len(shape) == 2:\n",
    "                two += 1\n",
    "            elif len(shape) == 3:\n",
    "                three += 1\n",
    "        else:\n",
    "            print(f\"Failed to load image: {path}\")\n",
    "print(two)\n",
    "print(three)"
   ]
  },
  {
   "cell_type": "code",
   "execution_count": 5,
   "id": "2ec5257b-9a60-4159-902f-0c69386ad446",
   "metadata": {},
   "outputs": [],
   "source": [
    "from PIL import Image\n",
    "data,labels=[],[]\n",
    "img2vec = Img2Vec()\n",
    "category = ['cloudy', 'rain','shine','sunrise']\n",
    "for ind,ele in enumerate(category):\n",
    "    category_path = os.path.join(dataset, ele)\n",
    "    for file in os.listdir(category_path):\n",
    "        path = os.path.join(category_path, file)\n",
    "        img = Image.open(path).convert('RGB')\n",
    "        if img is not None:\n",
    "            d=img2vec.get_vec(img)\n",
    "            #print(d)\n",
    "            data.append(d)\n",
    "            labels.append(ind)\n",
    "        else:\n",
    "            print(f\"Failed to load image: {path}\")"
   ]
  },
  {
   "cell_type": "code",
   "execution_count": 6,
   "id": "cb9efb25-23c6-4b55-bb0d-e8e676277383",
   "metadata": {},
   "outputs": [],
   "source": [
    "from sklearn.model_selection import train_test_split\n",
    "xtrain,xtest,ytrain,ytest=train_test_split(data,labels,test_size=0.3,random_state=1,stratify=labels)"
   ]
  },
  {
   "cell_type": "code",
   "execution_count": 7,
   "id": "ed15b3cc-7819-45b2-b800-64c37d266a38",
   "metadata": {},
   "outputs": [],
   "source": [
    "from sklearn.ensemble import RandomForestClassifier\n",
    "classifer=RandomForestClassifier(n_estimators=50,max_depth=5,oob_score=True)"
   ]
  },
  {
   "cell_type": "code",
   "execution_count": 8,
   "id": "b80a4963-6451-483b-9098-70902496ddff",
   "metadata": {},
   "outputs": [],
   "source": [
    "classifer.fit(xtrain,ytrain)\n",
    "ypred=classifer.predict(xtest)"
   ]
  },
  {
   "cell_type": "code",
   "execution_count": 9,
   "id": "54c79e69-df1b-489a-80c1-e30d4acf5b0f",
   "metadata": {},
   "outputs": [
    {
     "name": "stdout",
     "output_type": "stream",
     "text": [
      "0.9643916913946587\n"
     ]
    }
   ],
   "source": [
    "from sklearn.metrics import accuracy_score,precision_score,recall_score,f1_score\n",
    "print(accuracy_score(ytest,ypred))\n",
    "#print(precision_score(ytest,ypred))\n",
    "#print(recall_score(ytest,ypred))\n",
    "#print(f1_score(ytest,ypred))"
   ]
  },
  {
   "cell_type": "code",
   "execution_count": 10,
   "id": "b747d1cf-ff56-4f40-9392-48abd0121be6",
   "metadata": {},
   "outputs": [],
   "source": [
    "from sklearn.svm import SVC\n",
    "from sklearn.multiclass import OneVsOneClassifier,OneVsRestClassifier\n",
    "model=SVC(kernel='poly')\n",
    "classifier_svm=OneVsOneClassifier(model)"
   ]
  },
  {
   "cell_type": "code",
   "execution_count": 11,
   "id": "f6ae22ca-6377-4d9c-9d68-2602e86aabfe",
   "metadata": {},
   "outputs": [],
   "source": [
    "classifier_svm.fit(xtrain,ytrain)\n",
    "ypred1=classifier_svm.predict(xtest)"
   ]
  },
  {
   "cell_type": "code",
   "execution_count": 12,
   "id": "96c08721-d0fc-47cf-9a2e-e3aee0f82916",
   "metadata": {},
   "outputs": [],
   "source": [
    "model.fit(xtrain,ytrain)\n",
    "ypred=model.predict(xtest)"
   ]
  },
  {
   "cell_type": "code",
   "execution_count": 13,
   "id": "1b64af82-bf7e-40a8-93a5-37556f61294d",
   "metadata": {},
   "outputs": [
    {
     "data": {
      "text/plain": [
       "0.9940652818991098"
      ]
     },
     "execution_count": 13,
     "metadata": {},
     "output_type": "execute_result"
    }
   ],
   "source": [
    "accuracy_score(ytest,ypred)"
   ]
  },
  {
   "cell_type": "code",
   "execution_count": 14,
   "id": "db572088-8a37-4be2-8341-b33e9c83b60d",
   "metadata": {},
   "outputs": [
    {
     "data": {
      "text/plain": [
       "0.9881305637982196"
      ]
     },
     "execution_count": 14,
     "metadata": {},
     "output_type": "execute_result"
    }
   ],
   "source": [
    "accuracy_score(ytest,ypred1)"
   ]
  },
  {
   "cell_type": "code",
   "execution_count": null,
   "id": "0be79bef-faa9-4fc0-93cf-8218fac22d1d",
   "metadata": {},
   "outputs": [],
   "source": []
  },
  {
   "cell_type": "code",
   "execution_count": null,
   "id": "563a0441-c60f-4a03-b87d-edaec259e2ee",
   "metadata": {},
   "outputs": [],
   "source": []
  },
  {
   "cell_type": "code",
   "execution_count": null,
   "id": "774a81f1-6b65-4a1a-8e44-ae03cfa64304",
   "metadata": {},
   "outputs": [],
   "source": []
  },
  {
   "cell_type": "code",
   "execution_count": null,
   "id": "5530b77a-7021-44d1-87ef-1bb0ddd7bf63",
   "metadata": {},
   "outputs": [],
   "source": []
  },
  {
   "cell_type": "code",
   "execution_count": null,
   "id": "b6e3ad56-b03a-4a3d-b581-da1dff78a4a7",
   "metadata": {},
   "outputs": [],
   "source": []
  },
  {
   "cell_type": "code",
   "execution_count": null,
   "id": "00132d9c-16c4-4fbe-8da6-9ad4ff3eee74",
   "metadata": {},
   "outputs": [],
   "source": []
  },
  {
   "cell_type": "code",
   "execution_count": null,
   "id": "05c2d298-fef6-403d-82eb-c0839e69823e",
   "metadata": {},
   "outputs": [],
   "source": []
  }
 ],
 "metadata": {
  "kernelspec": {
   "display_name": "Python 3 (ipykernel)",
   "language": "python",
   "name": "python3"
  },
  "language_info": {
   "codemirror_mode": {
    "name": "ipython",
    "version": 3
   },
   "file_extension": ".py",
   "mimetype": "text/x-python",
   "name": "python",
   "nbconvert_exporter": "python",
   "pygments_lexer": "ipython3",
   "version": "3.12.7"
  }
 },
 "nbformat": 4,
 "nbformat_minor": 5
}
